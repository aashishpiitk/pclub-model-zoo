{
  "nbformat": 4,
  "nbformat_minor": 0,
  "metadata": {
    "colab": {
      "name": "ResNet18_pytorch_hardcode.ipynb",
      "provenance": [],
      "authorship_tag": "ABX9TyNgtwQsiKhdQjstMQgvfC6O",
      "include_colab_link": true
    },
    "kernelspec": {
      "name": "python3",
      "display_name": "Python 3"
    }
  },
  "cells": [
    {
      "cell_type": "markdown",
      "metadata": {
        "id": "view-in-github",
        "colab_type": "text"
      },
      "source": [
        "<a href=\"https://colab.research.google.com/github/aashishpiitk/pclub-model-zoo/blob/master/ResNet18_pytorch_hardcode.ipynb\" target=\"_parent\"><img src=\"https://colab.research.google.com/assets/colab-badge.svg\" alt=\"Open In Colab\"/></a>"
      ]
    },
    {
      "cell_type": "code",
      "metadata": {
        "id": "-jf0YZ5bbsgQ",
        "colab_type": "code",
        "colab": {}
      },
      "source": [
        "import torch\n",
        "import torch.nn as nn\n",
        "import torchvision\n",
        "import torchvision.transforms as transforms\n",
        "import numpy as np\n",
        "import torch.nn.functional as F"
      ],
      "execution_count": 0,
      "outputs": []
    },
    {
      "cell_type": "code",
      "metadata": {
        "id": "CwzHi-EcWAX9",
        "colab_type": "code",
        "colab": {}
      },
      "source": [
        "import torch.optim as optim\n",
        "import matplotlib.pyplot as plt\n",
        "import torchvision.transforms as transforms\n",
        "from torchsummary import summary\n"
      ],
      "execution_count": 0,
      "outputs": []
    },
    {
      "cell_type": "code",
      "metadata": {
        "id": "C6_r-BK-Hm4B",
        "colab_type": "code",
        "colab": {}
      },
      "source": [
        ""
      ],
      "execution_count": 0,
      "outputs": []
    },
    {
      "cell_type": "code",
      "metadata": {
        "id": "nGSe8-iIC4PB",
        "colab_type": "code",
        "colab": {}
      },
      "source": [
        "class ResNet18(nn.Module):\n",
        "  def __init__(self):\n",
        "    super(ResNet18,self).__init__()\n",
        "\n",
        "\n",
        "    self.con7x7=nn.Conv2d(in_channels=3,\n",
        "                          out_channels=64,\n",
        "                          kernel_size=7,\n",
        "                          stride=2,\n",
        "                          padding=9)\n",
        "    self.conv64=nn.Conv2d(64,64,3,padding=1)\n",
        "    self.conv128=nn.Conv2d(128,128,3,padding=1)\n",
        "    self.conv256=nn.Conv2d(256,256,3,padding=1)\n",
        "    self.conv512=nn.Conv2d(512,512,3,padding=1)\n",
        "    self.relu=nn.ReLU()\n",
        "    self.bn32=nn.BatchNorm1d(32)\n",
        "    self.bn64=nn.BatchNorm1d(32*2)\n",
        "    self.bn128=nn.BatchNorm1d(32*4)\n",
        "    self.bn256=nn.BatchNorm1d(32*8)\n",
        "    self.bn512=nn.BatchNorm1d(32*16)\n",
        "    self.maxpool=nn.MaxPool2d(3,2,1)\n",
        "    self.avgpool=nn.AvgPool2d(3,2,1)\n",
        "    self.conv64_1=nn.Conv2d(64,64,3,padding=1)\n",
        "    self.conv128_1=nn.Conv2d(64,128,3,2,padding=1)\n",
        "    self.conv256_1=nn.Conv2d(128,256,3,2,padding=1)\n",
        "    self.conv512_1=nn.Conv2d(256,512,3,2,padding=1)\n",
        "    self.short_21=nn.Conv2d(64,128,3,2,padding=1)\n",
        "    self.short_31=nn.Conv2d(128,256,3,2,padding=1)\n",
        "    self.short_41=nn.Conv2d(256,512,3,2,padding=1)\n",
        "    self.linear=nn.Linear(512,10)\n",
        "\n",
        "  def forward(self,input):\n",
        "\n",
        "    conv7x7=self.conv7x7(input)\n",
        "    bn=self.bn32(conv7x7)\n",
        "    relu=self.relu(bn)\n",
        "    pool1=self.maxpool(relu)\n",
        "\n",
        "\n",
        "    #block 1\n",
        "      #res1\n",
        "    input=pool1\n",
        "    conv1=self.conv64_1(pool1)\n",
        "    bn=self.bn64(conv1)\n",
        "    relu=self.relu(bn)\n",
        "    conv2=self.conv64(relu)\n",
        "      #shortcut function\n",
        "    conv2=input+conv2\n",
        "      #res2\n",
        "    input=conv2\n",
        "    bn=self.bn64(conv2)\n",
        "    relu=self.relu(bn)\n",
        "    conv1=self.conv64(relu)\n",
        "    bn=self.bn64(conv1)\n",
        "    relu=self.relu(bn)\n",
        "    conv2=self.conv64(relu)\n",
        "      #shortcut function\n",
        "    conv2=conv2+input\n",
        "\n",
        "\n",
        "\n",
        "    #block 2\n",
        "      #res1\n",
        "    input=conv2\n",
        "    bn=self.bn64(conv2)\n",
        "    relu=self.relu(bn)\n",
        "    conv1=self.conv128_1(relu)\n",
        "    bn=self.bn128(conv1)\n",
        "    relu=self.relu(bn)\n",
        "    conv2=self.conv128(relu)\n",
        "      #shortcut\n",
        "    conv2=self.short_21(conv2+input)\n",
        "      #res2\n",
        "    input=conv2\n",
        "    bn=self.bn128(conv2)\n",
        "    relu=self.relu(bn)\n",
        "    conv1=self.conv128(relu)\n",
        "    bn=self.bn128(conv1)\n",
        "    relu=self.relu(bn)\n",
        "    conv2=self.conv128(relu)\n",
        "      #shortcut\n",
        "    conv2=conv2+input\n",
        "\n",
        "\n",
        "\n",
        "    #block 3\n",
        "      #res1\n",
        "    input=conv2\n",
        "    bn=self.bn128(conv2)\n",
        "    relu=self.relu(bn)\n",
        "    conv1=self.conv256_1(relu)\n",
        "    bn=self.bn256(conv1)\n",
        "    relu=self.relu(bn)\n",
        "    conv2=self.conv256(relu)\n",
        "      #shortcut\n",
        "    conv2=self.short_31(conv2+input)\n",
        "      #res2\n",
        "    input=conv2\n",
        "    bn=self.bn256(conv2)\n",
        "    relu=self.relu(bn)\n",
        "    conv1=self.conv256(relu)\n",
        "    bn=self.bn256(conv1)\n",
        "    relu=self.relu(bn)\n",
        "    conv2=self.conv256(relu)\n",
        "    conv2=input+conv2\n",
        "\n",
        "    #block 4\n",
        "      #res1\n",
        "    input=conv2\n",
        "    bn=self.bn256(conv2)\n",
        "    relu=self.relu(bn)\n",
        "    conv1=self.conv512_1(relu)\n",
        "    bn=self.bn512(conv1)\n",
        "    relu=self.relu(bn)\n",
        "    conv2=self.conv512(relu)\n",
        "      #shortcut\n",
        "    conv2=self.short_41(input+conv2)\n",
        "      #res2\n",
        "    input=conv2\n",
        "    bn=self.bn512(conv2)\n",
        "    relu=self.relu(bn)\n",
        "    conv1=self.conv512(relu)\n",
        "    bn=self.bn512(conv1)\n",
        "    relu=self.relu(bn)\n",
        "    conv2=self.conv512(relu)\n",
        "    output=input+conv2\n",
        "\n",
        "\n",
        "    #average pooling\n",
        "    avgpool=self.avgpool(output)\n",
        "    #flatten\n",
        "    flatten=avgpool.view(-1,512)\n",
        "    #linear\n",
        "    final_output=self.linear(flatten)\n",
        "\n",
        "    return final_output\n"
      ],
      "execution_count": 0,
      "outputs": []
    },
    {
      "cell_type": "code",
      "metadata": {
        "id": "0OV1fvFrHolo",
        "colab_type": "code",
        "colab": {}
      },
      "source": [
        "#training resnet 18"
      ],
      "execution_count": 0,
      "outputs": []
    },
    {
      "cell_type": "code",
      "metadata": {
        "id": "sFFmLa7bH0A3",
        "colab_type": "code",
        "colab": {}
      },
      "source": [
        "def load_dataset():\n",
        "  "
      ],
      "execution_count": 0,
      "outputs": []
    }
  ]
}