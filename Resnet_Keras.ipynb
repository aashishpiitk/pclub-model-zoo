{
  "nbformat": 4,
  "nbformat_minor": 0,
  "metadata": {
    "colab": {
      "name": "Resnet_Keras.ipynb",
      "provenance": [],
      "collapsed_sections": [],
      "authorship_tag": "ABX9TyPpsNVWFWT8vthVTfOFmP/N",
      "include_colab_link": true
    },
    "kernelspec": {
      "name": "python3",
      "display_name": "Python 3"
    }
  },
  "cells": [
    {
      "cell_type": "markdown",
      "metadata": {
        "id": "view-in-github",
        "colab_type": "text"
      },
      "source": [
        "<a href=\"https://colab.research.google.com/github/aashishpiitk/pclub-model-zoo/blob/master/Resnet_Keras.ipynb\" target=\"_parent\"><img src=\"https://colab.research.google.com/assets/colab-badge.svg\" alt=\"Open In Colab\"/></a>"
      ]
    },
    {
      "cell_type": "code",
      "metadata": {
        "id": "9uNjxYWzTr8q",
        "colab_type": "code",
        "outputId": "c6cb4fc4-9d30-42e4-b21a-b0f640735c7b",
        "colab": {
          "base_uri": "https://localhost:8080/",
          "height": 34
        }
      },
      "source": [
        "from google.colab import drive\n",
        "drive.mount('/content/gdrive')"
      ],
      "execution_count": 0,
      "outputs": [
        {
          "output_type": "stream",
          "text": [
            "Drive already mounted at /content/gdrive; to attempt to forcibly remount, call drive.mount(\"/content/gdrive\", force_remount=True).\n"
          ],
          "name": "stdout"
        }
      ]
    },
    {
      "cell_type": "code",
      "metadata": {
        "id": "cErwPmTE8VHj",
        "colab_type": "code",
        "colab": {}
      },
      "source": [
        "from keras.callbacks import *\n",
        "filepath=\"/content/gdrive/My Drive/epochs:{epoch:03d}-val_accuracy:{val_accuracy:.4f}.hdf5\""
      ],
      "execution_count": 0,
      "outputs": []
    },
    {
      "cell_type": "code",
      "metadata": {
        "id": "XmV9vfaeRFC5",
        "colab_type": "code",
        "colab": {}
      },
      "source": [
        "import sys\n",
        "sys.path.append('/content/gdrive/My Drive')"
      ],
      "execution_count": 0,
      "outputs": []
    },
    {
      "cell_type": "code",
      "metadata": {
        "id": "r1XUDmtyWmGX",
        "colab_type": "code",
        "colab": {}
      },
      "source": [
        "from __future__ import division\n",
        "import six\n",
        "\n",
        "from keras.models import Model\n",
        "from keras.layers import(\n",
        "    Activation,\n",
        "    Input,\n",
        "    Dense,\n",
        "    Flatten\n",
        ")\n",
        "from keras.layers.convolutional import(\n",
        "    Conv2D,\n",
        "    MaxPooling2D,\n",
        "    AveragePooling2D\n",
        ")\n",
        "from keras.layers.merge import add\n",
        "from keras.layers.normalization import BatchNormalization\n",
        "from keras.regularizers import l2\n",
        "from keras import backend as K"
      ],
      "execution_count": 0,
      "outputs": []
    },
    {
      "cell_type": "code",
      "metadata": {
        "id": "xV2T5KJ0cWZl",
        "colab_type": "code",
        "outputId": "2e893562-1c3e-4d07-a601-cccfd4d579e4",
        "colab": {
          "base_uri": "https://localhost:8080/",
          "height": 34
        }
      },
      "source": [
        "K.backend()"
      ],
      "execution_count": 0,
      "outputs": [
        {
          "output_type": "execute_result",
          "data": {
            "text/plain": [
              "'tensorflow'"
            ]
          },
          "metadata": {
            "tags": []
          },
          "execution_count": 11
        }
      ]
    },
    {
      "cell_type": "code",
      "metadata": {
        "id": "PoHSKDq1dUkT",
        "colab_type": "code",
        "colab": {}
      },
      "source": [
        ""
      ],
      "execution_count": 0,
      "outputs": []
    },
    {
      "cell_type": "code",
      "metadata": {
        "id": "FH-W_KB6ckzg",
        "colab_type": "code",
        "colab": {}
      },
      "source": [
        "def _bn_relu(input):\n",
        "  \"\"\"Helper to build a BN -> relu block\n",
        "  \"\"\"\n",
        "  norm=BatchNormalization(axis=CHANNEL_AXIS)(input)\n",
        "  return Activation('relu')(norm)"
      ],
      "execution_count": 0,
      "outputs": []
    },
    {
      "cell_type": "code",
      "metadata": {
        "id": "4pDOaItHgI8g",
        "colab_type": "code",
        "colab": {}
      },
      "source": [
        "def _conv_bn_relu(**conv_params):\n",
        "  strides=conv_params.setdefault(\"strides\",(1,1))\n",
        "  padding=conv_params.setdefault('padding',\"same\")\n",
        "  kernel_size=conv_params['kernel_size']\n",
        "  filters=conv_params['filters']\n",
        "  kernel_regularizer=conv_params.setdefault(\"kernel_regularizer\",l2(1.e-4))\n",
        "  kernel_initializer=conv_params.setdefault(\"kernel_initializer\",\"he_normal\")\n",
        "\n",
        "\n",
        "  def accept(input):\n",
        "    conv=Conv2D(filters=filters,\n",
        "                kernel_size=kernel_size,\n",
        "                strides=strides,\n",
        "                padding=padding,\n",
        "                kernel_initializer=kernel_initializer,\n",
        "                kernel_regularizer=kernel_regularizer)(input)\n",
        "    return _bn_relu(conv)\n",
        "  \n",
        "  return accept               #closure concept"
      ],
      "execution_count": 0,
      "outputs": []
    },
    {
      "cell_type": "code",
      "metadata": {
        "id": "xfqkT9OFn7jh",
        "colab_type": "code",
        "colab": {}
      },
      "source": [
        "def _bn_relu_conv(**conv_params):\n",
        "  strides=conv_params.setdefault(\"strides\",(1,1))\n",
        "  padding=conv_params.setdefault('padding',\"same\")\n",
        "  kernel_size=conv_params['kernel_size']\n",
        "  filters=conv_params['filters']\n",
        "  kernel_regularizer=conv_params.setdefault(\"kernel_regularizer\",l2(1.e-4))\n",
        "  kernel_initializer=conv_params.setdefault(\"kernel_initializer\",\"he_normal\")\n",
        "\n",
        "  def accept(input):\n",
        "    activation=_bn_relu(input)\n",
        "    conv=Conv2D(filters=filters,\n",
        "                kernel_size=kernel_size,\n",
        "                strides=strides,\n",
        "                padding=padding,\n",
        "                kernel_initializer=kernel_initializer,\n",
        "                kernel_regularizer=kernel_regularizer)(activation)\n",
        "    \n",
        "    return conv\n",
        "  \n",
        "  return accept\n"
      ],
      "execution_count": 0,
      "outputs": []
    },
    {
      "cell_type": "code",
      "metadata": {
        "id": "Swcv3vvnrfoN",
        "colab_type": "code",
        "colab": {}
      },
      "source": [
        "def _shortcut(input,residual):\n",
        "  \"\"\"Adds a shortcut between input and residual block and merges them with \"sum\"\n",
        "  \"\"\"\n",
        "  #input and residual are tensors\n",
        "  #if the no.of channels do not match then equalize\n",
        "  #if height or width does not match then \n",
        "  #that identity layer is converted to convulational layer with kernel_size=1,stride=as required,filter=to match with residual block,no paddin\n",
        "  input_shape=K.int_shape(input)\n",
        "  residual_shape=K.int_shape(residual)\n",
        "  stride_height=int(input_shape[ROW_AXIS]/residual_shape[ROW_AXIS])\n",
        "  stride_width=int(input_shape[COLUMN_AXIS]/residual_shape[COLUMN_AXIS])\n",
        "  equal_channels=int(input_shape[CHANNEL_AXIS])==int(residual_shape[CHANNEL_AXIS])\n",
        "\n",
        "  shortcut = input\n",
        "  #print(input_shape,residual_shape)\n",
        "  if stride_height>1 or stride_width>1 or (not equal_channels):\n",
        "    shortcut=Conv2D(strides=(stride_height,stride_width),\n",
        "                filters=int(residual_shape[CHANNEL_AXIS]),\n",
        "                kernel_size=(1,1),\n",
        "                padding=\"valid\",\n",
        "                kernel_initializer=\"he_normal\",\n",
        "                kernel_regularizer=l2(1.e-4))(input)\n",
        "  #print(K.int_shape())\n",
        "  return add([shortcut,residual])\n"
      ],
      "execution_count": 0,
      "outputs": []
    },
    {
      "cell_type": "code",
      "metadata": {
        "id": "9ACSB7qoH0GZ",
        "colab_type": "code",
        "colab": {}
      },
      "source": [
        "def _residual_block(block_func,filters,repetitions,is_first_layer=False):\n",
        "  \"\"\"Builds a NN with basic/bottleneck blocks stacked together \n",
        "  \"\"\"\n",
        "  def accept(input):\n",
        "    for i in range(repetitions):\n",
        "      init_strides=(1,1)\n",
        "      if i==0 and not is_first_layer:\n",
        "        init_strides=(2,2)\n",
        "      input=block_func(strides=init_strides,\n",
        "                       filters=filters,\n",
        "                       is_first_block_of_first_layer=(is_first_layer and i==0))(input)\n",
        "    return input\n",
        "  return accept\n",
        "  "
      ],
      "execution_count": 0,
      "outputs": []
    },
    {
      "cell_type": "code",
      "metadata": {
        "id": "IUxHng7MdrYv",
        "colab_type": "code",
        "colab": {}
      },
      "source": [
        "def basic_block(filters,strides=(1,1),is_first_block_of_first_layer=False):\n",
        "  \"\"\"Builds a basic residual block with two conv nets with a shortcut using 3 x 3 conv blocks\n",
        "  \"\"\"\n",
        "  def accept(input):\n",
        "    if is_first_block_of_first_layer:\n",
        "      #don't do Bn -> relu because the network starts with conv2D -> bn -> relu -> max-pooling\n",
        "      conv1=Conv2D(kernel_size=(3,3),\n",
        "                   filters=filters,\n",
        "                   strides=strides,\n",
        "                   kernel_initializer=\"he_normal\",\n",
        "                   kernel_regularizer=l2(1.e-4))(input)\n",
        "    else:\n",
        "      conv1=_bn_relu_conv(kernel_size=(3,3), \n",
        "                          filters=filters,\n",
        "                          strides=strides)(input)\n",
        "\n",
        "\n",
        "    residual=_bn_relu_conv(kernel_size=(3,3),\n",
        "                           filters=filters,\n",
        "                           strides=strides)(conv1)\n",
        "\n",
        "\n",
        "    return _shortcut(input,residual)\n",
        "  return accept"
      ],
      "execution_count": 0,
      "outputs": []
    },
    {
      "cell_type": "code",
      "metadata": {
        "id": "IXaNtajZk3nW",
        "colab_type": "code",
        "colab": {}
      },
      "source": [
        "def bottleneck_block(filters,strides=(1,1),is_first_block_of_first_layer=False):\n",
        "  \"\"\"\n",
        "  Builds a bootleneck block with three conv layers with kernel of 3 x 3\n",
        "  \"\"\"\n",
        "  def accept(input):\n",
        "    if is_first_block_of_first_layer:\n",
        "      #don't do Bn -> relu because the network starts with conv2D -> bn -> relu -> max-pooling\n",
        "      conv1=Conv2D(kernel_size=(1,1),\n",
        "                   filters=filters,\n",
        "                   strides=strides,\n",
        "                   kernel_initializer=\"he_normal\",\n",
        "                   kernel_regularizer=l2(1.e-4))(input)\n",
        "    else:\n",
        "      conv1=_bn_relu_conv(kernel_size=(1,1), \n",
        "                          filters=filters,\n",
        "                          strides=strides)(input)\n",
        "\n",
        "    conv2=_bn_relu_conv(kernel_size=(3,3), \n",
        "                        filters=filters,\n",
        "                        strides=strides)(conv1)\n",
        "    residual=_bn_relu_conv(kernel_size=(1,1),\n",
        "                           filters=filters*4,\n",
        "                           strides=strides)(conv2)\n",
        "\n",
        "\n",
        "    return _shortcut(input,residual)\n",
        "  return accept"
      ],
      "execution_count": 0,
      "outputs": []
    },
    {
      "cell_type": "code",
      "metadata": {
        "id": "KZ4CCI5boFrX",
        "colab_type": "code",
        "outputId": "ad825a8b-ea18-438d-a830-9b0b0d2dc958",
        "colab": {
          "base_uri": "https://localhost:8080/",
          "height": 34
        }
      },
      "source": [
        "K.common.image_dim_ordering()"
      ],
      "execution_count": 0,
      "outputs": [
        {
          "output_type": "execute_result",
          "data": {
            "text/plain": [
              "'tf'"
            ]
          },
          "metadata": {
            "tags": []
          },
          "execution_count": 19
        }
      ]
    },
    {
      "cell_type": "code",
      "metadata": {
        "id": "ts0PnM5QnntQ",
        "colab_type": "code",
        "colab": {}
      },
      "source": [
        "def _handle_dim_ordering():\n",
        "  global ROW_AXIS\n",
        "  global COLUMN_AXIS\n",
        "  global CHANNEL_AXIS\n",
        "\n",
        "  if K.common.image_dim_ordering()=='tf':\n",
        "    ROW_AXIS=1\n",
        "    COLUMN_AXIS=2\n",
        "    CHANNEL_AXIS=3\n",
        "  else:\n",
        "    ROW_AXIS=2\n",
        "    COLUMN_AXIS=3\n",
        "    CHANNEL_AXIS=1\n"
      ],
      "execution_count": 0,
      "outputs": []
    },
    {
      "cell_type": "code",
      "metadata": {
        "id": "1ocZmT7hs2ER",
        "colab_type": "code",
        "outputId": "20f6cc4c-134a-4236-b35c-7b26264f77f4",
        "colab": {
          "base_uri": "https://localhost:8080/",
          "height": 34
        }
      },
      "source": [
        "print(globals().get('yo'))"
      ],
      "execution_count": 0,
      "outputs": [
        {
          "output_type": "stream",
          "text": [
            "None\n"
          ],
          "name": "stdout"
        }
      ]
    },
    {
      "cell_type": "code",
      "metadata": {
        "id": "KYHZZ9A5pbZ-",
        "colab_type": "code",
        "colab": {}
      },
      "source": [
        "def _get_block(identifier):\n",
        "  if isinstance(identifier,six.string_types):\n",
        "    res=globals().get(identifier)\n",
        "    if not res:\n",
        "      raise ValueError('Invalid {}'.format(identifier))\n",
        "    return res\n",
        "  return identifier"
      ],
      "execution_count": 0,
      "outputs": []
    },
    {
      "cell_type": "code",
      "metadata": {
        "id": "0DKM-QpJtrqM",
        "colab_type": "code",
        "colab": {}
      },
      "source": [
        "class ResnetBuilder(object):\n",
        "\n",
        "  @staticmethod\n",
        "  def build(input_shape,num_outputs,block_func,repetitions):\n",
        "    \"\"\"builds a resnet like structure\n",
        "\n",
        "    Args:\n",
        "      input_shape: The input shape in the form (nb_channels, nb_rows, nb_cols)\n",
        "      repetitions:a list of repetitions of various block units\n",
        "      block_func:whether to use bottleneck or basic residual block\n",
        "      \n",
        "    Returns:\n",
        "      keras `model`\n",
        "    \n",
        "    \"\"\"\n",
        "    _handle_dim_ordering()\n",
        "\n",
        "    if len(input_shape) != 3:\n",
        "      raise Exception(\"Input shape should be a tuple (nb_channels, nb_rows, nb_cols)\")\n",
        "    \n",
        "    if K.common.image_dim_ordering() == 'tf':###understand more about this,suspected\n",
        "            input_shape = (input_shape[1], input_shape[2], input_shape[0])\n",
        "    \n",
        "    #Load function from str if needed\n",
        "    block_func=_get_block(block_func)\n",
        "\n",
        "    input=Input(shape=input_shape)\n",
        "    conv1=_conv_bn_relu(strides=(2,2),filters=64,kernel_size=(7,7))(input)\n",
        "    pool1=MaxPooling2D(strides=(2,2),pool_size=(3,3),padding='same')(conv1)\n",
        "\n",
        "\n",
        "    block=pool1\n",
        "    filters=64\n",
        "    for i,r in enumerate(repetitions):\n",
        "      block=_residual_block(block_func=block_func,\n",
        "                            filters=filters,\n",
        "                            repetitions=r,\n",
        "                            is_first_layer=(i==0))(block)\n",
        "      filters*=2\n",
        "    \n",
        "    activation=_bn_relu(block)\n",
        "    act_shape=K.int_shape(activation)\n",
        "\n",
        "    pool2=AveragePooling2D(strides=(1,1),\n",
        "                           padding='valid',\n",
        "                           pool_size=(act_shape[ROW_AXIS],\n",
        "                                      act_shape[COLUMN_AXIS])\n",
        "                           )(activation)\n",
        "    flatten1=Flatten()(pool2)\n",
        "    dense1=Dense(units=num_outputs,\n",
        "                 activation=\"softmax\",\n",
        "                 kernel_initializer=\"he_normal\")(flatten1)\n",
        "    model=Model(inputs=input,output=dense1)\n",
        "    return model\n",
        "  \n",
        "\n",
        "  @staticmethod\n",
        "  def build_resnet_18(input_shape,num_outputs):\n",
        "    return ResnetBuilder.build(input_shape,num_outputs,basic_block,[2,2,2,2])\n",
        "  \n",
        "  @staticmethod\n",
        "  def build_resnet_34(input_shape,num_outputs):\n",
        "    return ResnetBuilder.build(input_shape,num_outputs,basic_block,[3,4,6,3])\n",
        "  \n",
        "  @staticmethod\n",
        "  def build_resnet_50(input_shape,num_outputs):\n",
        "    return ResnetBuilder.build(input_shape,num_outputs,bottleneck_block,[3,4,6,3])\n",
        "  \n",
        "  @staticmethod\n",
        "  def build_resnet_101(input_shape,num_outputs):\n",
        "    return ResnetBuilder.build(input_shape,num_outputs,bottleneck_block,[3,4,6,3])\n",
        "  \n",
        "  @staticmethod\n",
        "  def build_resnet_18(input_shape,num_outputs):\n",
        "    return ResnetBuilder.build(input_shape,num_outputs,bottleneck_block,[3,8,36,3])"
      ],
      "execution_count": 0,
      "outputs": []
    },
    {
      "cell_type": "code",
      "metadata": {
        "id": "EkC1--PuASJB",
        "colab_type": "code",
        "colab": {}
      },
      "source": [
        "#Now we will be compiling and training the model"
      ],
      "execution_count": 0,
      "outputs": []
    },
    {
      "cell_type": "code",
      "metadata": {
        "id": "84PTxxpSPQ8D",
        "colab_type": "code",
        "colab": {}
      },
      "source": [
        "from __future__ import print_function\n",
        "from keras.datasets import cifar10\n",
        "from keras.preprocessing.image import ImageDataGenerator\n",
        "from keras.utils import np_utils\n",
        "from keras.callbacks import ReduceLROnPlateau,CSVLogger,EarlyStopping,ModelCheckpoint"
      ],
      "execution_count": 0,
      "outputs": []
    },
    {
      "cell_type": "code",
      "metadata": {
        "id": "tldlDd-pPSfB",
        "colab_type": "code",
        "colab": {}
      },
      "source": [
        "import numpy as np\n"
      ],
      "execution_count": 0,
      "outputs": []
    },
    {
      "cell_type": "code",
      "metadata": {
        "id": "5AlqgtEdPXRf",
        "colab_type": "code",
        "colab": {}
      },
      "source": [
        "lr_reducer=ReduceLROnPlateau(factor=np.sqrt(0.1),cooldown=0,patience=5,min_lr=0.5e-6)\n",
        "early_stopper=EarlyStopping(min_delta=0.001,patience=10)\n",
        "csv_logger=CSVLogger('resnet_cifar10.csv')"
      ],
      "execution_count": 0,
      "outputs": []
    },
    {
      "cell_type": "code",
      "metadata": {
        "id": "REV4iXu0QQU_",
        "colab_type": "code",
        "colab": {}
      },
      "source": [
        "batch_size=32\n",
        "nb_classes=10\n",
        "nb_epoch=5\n",
        "data_augmentation=False"
      ],
      "execution_count": 0,
      "outputs": []
    },
    {
      "cell_type": "code",
      "metadata": {
        "id": "84oudgcARz86",
        "colab_type": "code",
        "colab": {}
      },
      "source": [
        "#input image dimension\n",
        "img_rows,img_cols=32,32\n",
        "img_channels=3"
      ],
      "execution_count": 0,
      "outputs": []
    },
    {
      "cell_type": "code",
      "metadata": {
        "id": "Y6n1LrlrSg2d",
        "colab_type": "code",
        "outputId": "35462056-611f-4e17-f387-f1f956a1eb04",
        "colab": {
          "base_uri": "https://localhost:8080/",
          "height": 52
        }
      },
      "source": [
        "#making the train/test sets\n",
        "(X_train,Y_train),(X_test,Y_test)=cifar10.load_data()"
      ],
      "execution_count": 0,
      "outputs": [
        {
          "output_type": "stream",
          "text": [
            "Downloading data from https://www.cs.toronto.edu/~kriz/cifar-10-python.tar.gz\n",
            "170500096/170498071 [==============================] - 2s 0us/step\n"
          ],
          "name": "stdout"
        }
      ]
    },
    {
      "cell_type": "code",
      "metadata": {
        "id": "E7CayuodSAVa",
        "colab_type": "code",
        "colab": {}
      },
      "source": [
        "#making one-hot vectors/binary class matrices for y\n",
        "Y_train=np_utils.to_categorical(Y_train)\n",
        "Y_test=np_utils.to_categorical(Y_test)"
      ],
      "execution_count": 0,
      "outputs": []
    },
    {
      "cell_type": "code",
      "metadata": {
        "id": "DfMMj1E-UCwI",
        "colab_type": "code",
        "colab": {}
      },
      "source": [
        "#changing datatype\n",
        "X_train=X_train.astype(\"float32\")\n",
        "X_test=X_test.astype(\"float32\")"
      ],
      "execution_count": 0,
      "outputs": []
    },
    {
      "cell_type": "code",
      "metadata": {
        "id": "yTryt6bIUT64",
        "colab_type": "code",
        "colab": {}
      },
      "source": [
        "#normalising the data\n",
        "mean_image_train=np.mean(X_train,axis=0)\n",
        "mean_image_test=np.mean(X_test,axis=0)\n",
        "X_train -= mean_image_train\n",
        "X_test -= mean_image_test\n",
        "X_train /= 128\n",
        "X_test /= 128"
      ],
      "execution_count": 0,
      "outputs": []
    },
    {
      "cell_type": "code",
      "metadata": {
        "id": "6aiZU88MXxw8",
        "colab_type": "code",
        "colab": {}
      },
      "source": [
        "checkpoint=ModelCheckpoint(filepath,monitor='val_accuracy',verbose=1)"
      ],
      "execution_count": 0,
      "outputs": []
    },
    {
      "cell_type": "code",
      "metadata": {
        "id": "HbPoB-s8W8rs",
        "colab_type": "code",
        "outputId": "10ba6b7a-aa20-4c98-fdaa-1c15522b3a21",
        "colab": {
          "base_uri": "https://localhost:8080/",
          "height": 481
        }
      },
      "source": [
        "model=ResnetBuilder.build_resnet_18((img_channels,img_rows,img_cols),\n",
        "                                    nb_classes\n",
        "                                    )#creating a model instance\n",
        "model.compile(loss=\"categorical_crossentropy\",\n",
        "              optimizer=\"adam\",\n",
        "              metrics=['accuracy'])\n",
        "\n",
        "if not data_augmentation:\n",
        "  print(\"not using data augmentation\")\n",
        "  model.fit(X_train,Y_train,\n",
        "            batch_size=batch_size,\n",
        "            nb_epoch=nb_epoch,\n",
        "            validation_data=(X_test,Y_test),\n",
        "            shuffle=True,\n",
        "            callbacks=[lr_reducer, early_stopper, csv_logger, checkpoint]\n",
        "            )"
      ],
      "execution_count": 36,
      "outputs": [
        {
          "output_type": "stream",
          "text": [
            "/usr/local/lib/python3.6/dist-packages/ipykernel_launcher.py:53: UserWarning: Update your `Model` call to the Keras 2 API: `Model(inputs=Tensor(\"in..., outputs=Tensor(\"de...)`\n",
            "/usr/local/lib/python3.6/dist-packages/ipykernel_launcher.py:15: UserWarning: The `nb_epoch` argument in `fit` has been renamed `epochs`.\n",
            "  from ipykernel import kernelapp as app\n"
          ],
          "name": "stderr"
        },
        {
          "output_type": "stream",
          "text": [
            "not using data augmentation\n",
            "Train on 50000 samples, validate on 10000 samples\n",
            "Epoch 1/5\n",
            "50000/50000 [==============================] - 7865s 157ms/step - loss: 7.1688 - accuracy: 0.4000 - val_loss: 3.2215 - val_accuracy: 0.4609\n",
            "\n",
            "Epoch 00001: saving model to /content/gdrive/My Drive/epochs:001-val_accuracy:0.4609.hdf5\n",
            "Epoch 2/5\n",
            "50000/50000 [==============================] - 7788s 156ms/step - loss: 2.5907 - accuracy: 0.5020 - val_loss: 2.1101 - val_accuracy: 0.5364\n",
            "\n",
            "Epoch 00002: saving model to /content/gdrive/My Drive/epochs:002-val_accuracy:0.5364.hdf5\n",
            "Epoch 3/5\n",
            "50000/50000 [==============================] - 7826s 157ms/step - loss: 1.8296 - accuracy: 0.5880 - val_loss: 1.6536 - val_accuracy: 0.6082\n",
            "\n",
            "Epoch 00003: saving model to /content/gdrive/My Drive/epochs:003-val_accuracy:0.6082.hdf5\n",
            "Epoch 4/5\n",
            "50000/50000 [==============================] - 7893s 158ms/step - loss: 1.5174 - accuracy: 0.6390 - val_loss: 2.6577 - val_accuracy: 0.5651\n",
            "\n",
            "Epoch 00004: saving model to /content/gdrive/My Drive/epochs:004-val_accuracy:0.5651.hdf5\n",
            "Epoch 5/5\n",
            "50000/50000 [==============================] - 7870s 157ms/step - loss: 1.3914 - accuracy: 0.6713 - val_loss: 1.4275 - val_accuracy: 0.6466\n",
            "\n",
            "Epoch 00005: saving model to /content/gdrive/My Drive/epochs:005-val_accuracy:0.6466.hdf5\n"
          ],
          "name": "stdout"
        }
      ]
    },
    {
      "cell_type": "code",
      "metadata": {
        "id": "PdN6v-6nZnLm",
        "colab_type": "code",
        "colab": {}
      },
      "source": [
        ""
      ],
      "execution_count": 0,
      "outputs": []
    }
  ]
}